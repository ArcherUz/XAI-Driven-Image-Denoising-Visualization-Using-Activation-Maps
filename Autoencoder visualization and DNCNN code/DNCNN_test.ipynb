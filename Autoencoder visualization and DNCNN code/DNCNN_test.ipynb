{
  "nbformat": 4,
  "nbformat_minor": 0,
  "metadata": {
    "colab": {
      "name": "DNCNN_test.ipynb",
      "provenance": [],
      "machine_shape": "hm"
    },
    "kernelspec": {
      "name": "python3",
      "display_name": "Python 3"
    },
    "language_info": {
      "name": "python"
    },
    "accelerator": "GPU"
  },
  "cells": [
    {
      "cell_type": "code",
      "execution_count": null,
      "metadata": {
        "colab": {
          "base_uri": "https://localhost:8080/",
          "height": 35
        },
        "id": "0LQGpuwp_Jm3",
        "outputId": "e3905904-796c-4c31-8097-5c67f2e7cae3"
      },
      "outputs": [
        {
          "output_type": "execute_result",
          "data": {
            "text/plain": [
              "'\\ntest the accuracy of DNCNN model from https://github.com/SaoYan/DnCNN-PyTorch\\n'"
            ],
            "application/vnd.google.colaboratory.intrinsic+json": {
              "type": "string"
            }
          },
          "metadata": {},
          "execution_count": 1
        }
      ],
      "source": [
        "\"\"\"\n",
        "test the accuracy of DNCNN model from https://github.com/SaoYan/DnCNN-PyTorch\n",
        "\"\"\""
      ]
    },
    {
      "cell_type": "code",
      "source": [
        "from google.colab import drive\n",
        "drive.mount('/content/drive')"
      ],
      "metadata": {
        "colab": {
          "base_uri": "https://localhost:8080/"
        },
        "id": "ygQ03xeOC91w",
        "outputId": "c4c75b6d-45e3-45b9-d1ce-82185579fd08"
      },
      "execution_count": null,
      "outputs": [
        {
          "output_type": "stream",
          "name": "stdout",
          "text": [
            "Mounted at /content/drive\n"
          ]
        }
      ]
    },
    {
      "cell_type": "code",
      "source": [
        "trained_model_path='/content/drive/My Drive/DNCNN_logs'\n",
        "data_path = '/content/drive/My Drive/data'\n",
        "test_dataset = '/Set12'\n",
        "test_noiseL = 25"
      ],
      "metadata": {
        "id": "wYq2Vk8YDTlc"
      },
      "execution_count": null,
      "outputs": []
    },
    {
      "cell_type": "code",
      "source": [
        "import cv2\n",
        "import os\n",
        "import glob\n",
        "import numpy as np\n",
        "import torch\n",
        "import torch.nn as nn\n",
        "from torch.autograd import Variable\n",
        "from skimage.metrics import peak_signal_noise_ratio"
      ],
      "metadata": {
        "id": "Ns5Eqx2d_kZ4"
      },
      "execution_count": null,
      "outputs": []
    },
    {
      "cell_type": "code",
      "source": [
        "class DnCNN(nn.Module):\n",
        "    def __init__(self, channels, num_of_layers=17):\n",
        "        super(DnCNN, self).__init__()\n",
        "        kernel_size = 3\n",
        "        padding = 1\n",
        "        features = 64\n",
        "        layers = []\n",
        "        layers.append(nn.Conv2d(in_channels=channels, out_channels=features, kernel_size=kernel_size, padding=padding, bias=False))\n",
        "        layers.append(nn.ReLU(inplace=True))\n",
        "        for _ in range(num_of_layers-2):\n",
        "            layers.append(nn.Conv2d(in_channels=features, out_channels=features, kernel_size=kernel_size, padding=padding, bias=False))\n",
        "            layers.append(nn.BatchNorm2d(features))\n",
        "            layers.append(nn.ReLU(inplace=True))\n",
        "        layers.append(nn.Conv2d(in_channels=features, out_channels=channels, kernel_size=kernel_size, padding=padding, bias=False))\n",
        "        self.dncnn = nn.Sequential(*layers)\n",
        "    def forward(self, x):\n",
        "        out = self.dncnn(x)\n",
        "        return out\n",
        "\n",
        "def batch_PSNR(img, imclean, data_range):\n",
        "    Img = img.data.cpu().numpy().astype(np.float32)\n",
        "    Iclean = imclean.data.cpu().numpy().astype(np.float32)\n",
        "    PSNR = 0\n",
        "    for i in range(Img.shape[0]):\n",
        "        PSNR += peak_signal_noise_ratio(Iclean[i,:,:,:], Img[i,:,:,:], data_range=data_range)\n",
        "    return (PSNR/Img.shape[0])\n"
      ],
      "metadata": {
        "id": "qJDttZ_RCAeX"
      },
      "execution_count": null,
      "outputs": []
    },
    {
      "cell_type": "code",
      "source": [
        "def normalize(data):\n",
        "    return data/255.\n",
        "\n",
        "def main():\n",
        "    # Build model\n",
        "    print('Loading model ...\\n')\n",
        "    net = DnCNN(channels=1, num_of_layers=17)\n",
        "    device_ids = [0]\n",
        "    model = nn.DataParallel(net, device_ids=device_ids).cuda()\n",
        "    model.load_state_dict(torch.load(os.path.join(trained_model_path + '/DnCNN-S-25', 'net.pth')))\n",
        "    model.eval()\n",
        "    # load data info\n",
        "    print('Loading data info ...\\n')\n",
        "    files_source = glob.glob(os.path.join(data_path + test_dataset, '*.png'))\n",
        "    files_source.sort()\n",
        "    # process data\n",
        "    psnr_test = 0\n",
        "    for f in files_source:\n",
        "        # image\n",
        "        Img = cv2.imread(f)\n",
        "        Img = normalize(np.float32(Img[:,:,0]))\n",
        "        Img = np.expand_dims(Img, 0)\n",
        "        Img = np.expand_dims(Img, 1)\n",
        "        ISource = torch.Tensor(Img)\n",
        "        # noise\n",
        "        noise = torch.FloatTensor(ISource.size()).normal_(mean=0, std=test_noiseL/255.)\n",
        "        # noisy image\n",
        "        INoisy = ISource + noise\n",
        "        ISource, INoisy = Variable(ISource.cuda()), Variable(INoisy.cuda())\n",
        "        with torch.no_grad(): # this can save much memory\n",
        "            Out = torch.clamp(INoisy-model(INoisy), 0., 1.)\n",
        "        ## if you are using older version of PyTorch, torch.no_grad() may not be supported\n",
        "        # ISource, INoisy = Variable(ISource.cuda(),volatile=True), Variable(INoisy.cuda(),volatile=True)\n",
        "        # Out = torch.clamp(INoisy-model(INoisy), 0., 1.)\n",
        "        psnr = batch_PSNR(Out, ISource, 1.)\n",
        "        psnr_test += psnr\n",
        "        print(\"%s PSNR %f\" % (f, psnr))\n",
        "    psnr_test /= len(files_source)\n",
        "    print(\"\\nPSNR on test data %f\" % psnr_test)\n",
        "\n",
        "main()"
      ],
      "metadata": {
        "colab": {
          "base_uri": "https://localhost:8080/"
        },
        "id": "pVnetbQ0AIFV",
        "outputId": "5de7cfbf-6a26-46ee-d7ad-a4f14fa62f7a"
      },
      "execution_count": null,
      "outputs": [
        {
          "output_type": "stream",
          "name": "stdout",
          "text": [
            "Loading model ...\n",
            "\n",
            "Loading data info ...\n",
            "\n",
            "/content/drive/My Drive/data/Set12/01.png PSNR 30.074796\n",
            "/content/drive/My Drive/data/Set12/02.png PSNR 33.030703\n",
            "/content/drive/My Drive/data/Set12/03.png PSNR 30.770762\n",
            "/content/drive/My Drive/data/Set12/04.png PSNR 29.382573\n",
            "/content/drive/My Drive/data/Set12/05.png PSNR 30.279145\n",
            "/content/drive/My Drive/data/Set12/06.png PSNR 29.153004\n",
            "/content/drive/My Drive/data/Set12/07.png PSNR 29.406059\n",
            "/content/drive/My Drive/data/Set12/08.png PSNR 32.349526\n",
            "/content/drive/My Drive/data/Set12/09.png PSNR 29.888108\n",
            "/content/drive/My Drive/data/Set12/10.png PSNR 30.158338\n",
            "/content/drive/My Drive/data/Set12/11.png PSNR 30.013587\n",
            "/content/drive/My Drive/data/Set12/12.png PSNR 29.991291\n",
            "\n",
            "PSNR on test data 30.374824\n"
          ]
        }
      ]
    }
  ]
}